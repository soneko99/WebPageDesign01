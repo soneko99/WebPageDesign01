{
  "nbformat": 4,
  "nbformat_minor": 0,
  "metadata": {
    "colab": {
      "name": "exercise.ipynb",
      "provenance": [],
      "include_colab_link": true
    },
    "kernelspec": {
      "name": "python3",
      "display_name": "Python 3"
    }
  },
  "cells": [
    {
      "cell_type": "markdown",
      "metadata": {
        "id": "view-in-github",
        "colab_type": "text"
      },
      "source": [
        "<a href=\"https://colab.research.google.com/github/soneko99/WebPageDesign01/blob/main/section_1/exercise.ipynb\" target=\"_parent\"><img src=\"https://colab.research.google.com/assets/colab-badge.svg\" alt=\"Open In Colab\"/></a>"
      ]
    },
    {
      "cell_type": "markdown",
      "metadata": {
        "id": "z8g5FUr1BPri"
      },
      "source": [
        "# 演習\n",
        "Pythonを学ぶ前に、Google Colaboratoryの使い方に慣れておきましょう。  \n",
        "このノートブックで、以下のセルの操作を行ってみましょう。  \n",
        "\n",
        "* コードセルの作成\n",
        "* コードセルにPythonのコードを記述し、「Hello World!」と表示\n",
        "* コードセルに足し算のコードを記述し、結果を表示\n",
        "* テキストセルの作成\n",
        "* テキストセルに文章を記述\n",
        "* テキストセルで文章を改行\n",
        "* テキストセルにリストを記述\n",
        "* セルの上下の入れ替え\n",
        "* セルの消去"
      ]
    },
    {
      "cell_type": "code",
      "source": [
        "print(\"HelloWlorld\");"
      ],
      "metadata": {
        "colab": {
          "base_uri": "https://localhost:8080/"
        },
        "id": "_JUPG1IQH8AG",
        "outputId": "170ded1b-01de-4ec0-cba3-0e310dd1c9f4"
      },
      "execution_count": 1,
      "outputs": [
        {
          "output_type": "stream",
          "name": "stdout",
          "text": [
            "HelloWlorld\n"
          ]
        }
      ]
    },
    {
      "cell_type": "code",
      "source": [
        "a=3\n",
        "b=4\n",
        "print(a+b)"
      ],
      "metadata": {
        "colab": {
          "base_uri": "https://localhost:8080/"
        },
        "id": "a8quHmDkICbY",
        "outputId": "3d5d03a6-2a62-46a4-f679-1f8fc6a4d9e2"
      },
      "execution_count": 5,
      "outputs": [
        {
          "output_type": "stream",
          "name": "stdout",
          "text": [
            "7\n"
          ]
        }
      ]
    },
    {
      "cell_type": "markdown",
      "source": [
        "**Python** *人工知能*の研究  \n",
        "\n",
        "\n",
        "1.   Cloboの始め方\n",
        "2.   マークダウン記法\n",
        "\n",
        "[検索](https://google.com)\n",
        "\n",
        "# 見出し１\n",
        "## 見出し２\n",
        "### 見出し３\n",
        "\n",
        "$$ y=2x+1 $$"
      ],
      "metadata": {
        "id": "WkyU_xG8I5MJ"
      }
    }
  ]
}